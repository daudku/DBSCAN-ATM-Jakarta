{
 "cells": [
  {
   "cell_type": "markdown",
   "metadata": {},
   "source": [
    "# DBSCAN TA \n",
    "\n",
    "DAUD TRI KURNAIN\n",
    "41516110138\n",
    "\n",
    "There is no general way of choosing minPts. It depends on what you want to find. A low minPts means it will build more clusters from noise, so don't choose it too small.\n",
    "\n",
    "For epsilon, there are various aspects. It again boils down to choosing whatever works on this data set and this minPts and this distance function and this normalization. You can try to do a knn distance histogram and choose a \"knee\" there, but there might be no visible one, or multiple.\n",
    "\n",
    "### Why should we use DBSCAN?\n",
    "The DBSCAN algorithm should be used to find associations and structures in data that are hard to find manually but that can be relevant and useful to find patterns and predict trends.\n",
    "Clustering methods are usually used in biology, medicine, social sciences, archaeology, marketing, characters recognition, management systems and so on.\n",
    "Let’s think in a practical use of DBSCAN. Suppose we have an e-commerce and we want to improve our sales by recommending relevant products to our customers. We don’t know exactly what our customers are looking for but based on a data set we can predict and recommend a relevant product to a specific customer. We can apply the DBSCAN to our data set (based on the e-commerce database) and find clusters based on the products that the users have bought. Using this clusters we can find similarities between customers, for example, the customer A have bought 1 pen, 1 book and 1 scissors and the customer B have bought 1 book and 1 scissors, then we can recommend 1 pen to the customer B. This is just a little example of use of\n",
    "\n",
    "https://towardsdatascience.com/unsupervised-machine-learning-clustering-analysis-d40f2b34ae7e\n",
    "\n",
    "https://medium.com/@elutins/dbscan-what-is-it-when-to-use-it-how-to-use-it-8bd506293818\n",
    "\n",
    "https://stackoverflow.com/questions/52560683/dbscan-sklearn-is-very-slow"
   ]
  },
  {
   "cell_type": "code",
   "execution_count": 1,
   "metadata": {
    "pycharm": {
     "is_executing": true,
     "name": "#%%\n"
    }
   },
   "outputs": [],
   "source": [
    "#Import Library\n",
    "\n",
    "import numpy as np \n",
    "from sklearn.cluster import DBSCAN\n",
    "from sklearn.preprocessing import StandardScaler\n",
    "import matplotlib\n",
    "import matplotlib.pyplot as plt"
   ]
  },
  {
   "cell_type": "code",
   "execution_count": 2,
   "metadata": {
    "pycharm": {
     "is_executing": true,
     "name": "#%%\n"
    }
   },
   "outputs": [
    {
     "name": "stdout",
     "output_type": "stream",
     "text": [
      "Shape DataFrame saldo:  (153964, 6)\n"
     ]
    },
    {
     "data": {
      "text/html": [
       "<div>\n",
       "<style scoped>\n",
       "    .dataframe tbody tr th:only-of-type {\n",
       "        vertical-align: middle;\n",
       "    }\n",
       "\n",
       "    .dataframe tbody tr th {\n",
       "        vertical-align: top;\n",
       "    }\n",
       "\n",
       "    .dataframe thead th {\n",
       "        text-align: right;\n",
       "    }\n",
       "</style>\n",
       "<table border=\"1\" class=\"dataframe\">\n",
       "  <thead>\n",
       "    <tr style=\"text-align: right;\">\n",
       "      <th></th>\n",
       "      <th>Id</th>\n",
       "      <th>MachineCode</th>\n",
       "      <th>MachineGroupCode</th>\n",
       "      <th>DateReplenish</th>\n",
       "      <th>Longitude</th>\n",
       "      <th>Latitude</th>\n",
       "    </tr>\n",
       "  </thead>\n",
       "  <tbody>\n",
       "    <tr>\n",
       "      <th>0</th>\n",
       "      <td>1</td>\n",
       "      <td>ATM-0001</td>\n",
       "      <td>GRP-0001</td>\n",
       "      <td>1/1/2019</td>\n",
       "      <td>106.821869</td>\n",
       "      <td>-6.185247</td>\n",
       "    </tr>\n",
       "    <tr>\n",
       "      <th>1</th>\n",
       "      <td>2</td>\n",
       "      <td>ATM-0002</td>\n",
       "      <td>GRP-0001</td>\n",
       "      <td>1/1/2019</td>\n",
       "      <td>106.821254</td>\n",
       "      <td>-6.184443</td>\n",
       "    </tr>\n",
       "    <tr>\n",
       "      <th>2</th>\n",
       "      <td>33</td>\n",
       "      <td>ATM-0002</td>\n",
       "      <td>GRP-0001</td>\n",
       "      <td>1/1/2019</td>\n",
       "      <td>106.725373</td>\n",
       "      <td>-6.186897</td>\n",
       "    </tr>\n",
       "  </tbody>\n",
       "</table>\n",
       "</div>"
      ],
      "text/plain": [
       "   Id MachineCode MachineGroupCode DateReplenish   Longitude  Latitude\n",
       "0   1    ATM-0001        GRP-0001      1/1/2019  106.821869 -6.185247\n",
       "1   2    ATM-0002        GRP-0001      1/1/2019  106.821254 -6.184443\n",
       "2  33    ATM-0003        GRP-0001      1/1/2019  106.725373 -6.186897"
      ]
     },
     "execution_count": 2,
     "metadata": {},
     "output_type": "execute_result"
    }
   ],
   "source": [
    "import pandas as pd\n",
    "\n",
    "#saldo_df = pd.read_csv('SaldoTrx.csv')\n",
    "#saldo_df = pd.read_csv('SaldoTrxByGroup.csv')\n",
    "saldo_df = pd.read_csv('ReplenishTrx.csv')\n",
    "\n",
    "print (\"Shape DataFrame saldo: \", saldo_df.shape)\n",
    "saldo_df.head(3) "
   ]
  },
  {
   "cell_type": "markdown",
   "metadata": {},
   "source": [
    "Penjelasan Tentang Atribut diatas\n",
    "\n",
    "* MachineCode        === Code Mesin ATM (PK) \n",
    "* MachineGroupCode   === Code Group, Bisa di sebut juga ATM Center\n",
    "* Longitude          === Garis lintang\n",
    "* Latitude           === Garis bujur\n",
    "* DebitAmount        === Total saldo yang pernah di tarik tunai dalam 1 tahun\n",
    "* CountReplenish     === Total pengisian dalam 1 tahun"
   ]
  },
  {
   "cell_type": "code",
   "execution_count": 3,
   "metadata": {
    "pycharm": {
     "is_executing": true
    }
   },
   "outputs": [
    {
     "name": "stdout",
     "output_type": "stream",
     "text": [
      "Shape DataFrame setelah di filter:  (153964, 6)\n"
     ]
    }
   ],
   "source": [
    "#Set perbatasan map\n",
    "# L = lower\n",
    "# u = Upper\n",
    "\n",
    "llon=106.603905\n",
    "ulon=107.094555\n",
    "llat=-6.516244\n",
    "ulat=-6.023535\n",
    "\n",
    "#Hanya munculkan data yang dalam perbatasan\n",
    "saldo_df = saldo_df[(saldo_df['Longitude'] > llon) & (saldo_df['Longitude'] < ulon) & \n",
    "                        (saldo_df['Latitude'] > llat) &(saldo_df['Latitude'] < ulat)]\n",
    "\n",
    "print (\"Shape DataFrame setelah di filter: \", saldo_df.shape)\n"
   ]
  },
  {
   "cell_type": "code",
   "execution_count": 4,
   "metadata": {
    "pycharm": {
     "is_executing": true
    }
   },
   "outputs": [],
   "source": [
    "import warnings\n",
    "warnings.filterwarnings(\"ignore\",category=matplotlib.cbook.mplDeprecation)"
   ]
  },
  {
   "cell_type": "markdown",
   "metadata": {},
   "source": [
    "## Modeling DBSCAN dan Plot ke Map"
   ]
  },
  {
   "cell_type": "code",
   "execution_count": null,
   "metadata": {
    "collapsed": true,
    "pycharm": {
     "is_executing": true,
     "name": "#%%\n"
    }
   },
   "outputs": [],
   "source": [
    "from mpl_toolkits.basemap import Basemap\n",
    "import matplotlib\n",
    "from PIL import Image\n",
    "import matplotlib.pyplot as plt \n",
    "from pylab import rcParams\n",
    "%matplotlib inline\n",
    "rcParams['figure.figsize'] = (14,10)\n",
    " \n",
    "my_map = Basemap(llcrnrlon=llon, llcrnrlat=llat, #min longitude (llcrnrlon) and latitude (llcrnrlat)\n",
    "        urcrnrlon=ulon, urcrnrlat=ulat)\n",
    "\n",
    "my_map.arcgisimage(service='World_Street_Map', xpixels = 2000)\n",
    "\n",
    "\n",
    "#Visualization1\n",
    "for index,row in saldo_df.iterrows():\n",
    "#   x,y = my_map(row.Long, row.Lat)\n",
    "   my_map.plot(row.Longitude, row.Latitude,markerfacecolor ='lime',markeredgecolor='pink', marker='o', markersize= 5, alpha = 0.4)\n",
    "#plt.text(x,y,stn)\n",
    "plt.title(\"Lokasi ATM di Jakarta\", fontsize=14)\n",
    "plt.savefig(\"ATM_Jakarta.png\", dpi=300)\n",
    "plt.show()\n",
    " "
   ]
  },
  {
   "cell_type": "code",
   "execution_count": null,
   "metadata": {
    "pycharm": {
     "is_executing": true
    },
    "scrolled": true
   },
   "outputs": [],
   "source": [
    "import seaborn as sns\n",
    "rep_df = pd.read_csv('ReplenishTrxByGroup.csv')\n",
    "rep_df = rep_df[(rep_df['CountReplenish'] < 250)]\n",
    "sns.distplot(rep_df['CountReplenish'], color='purple', kde=False)\n",
    "plt.xlabel('Count Replenish', fontsize=14)\n",
    "plt.title(\"Distribution of Count Replenish\", fontsize=14) \n",
    "plt.show()"
   ]
  },
  {
   "cell_type": "code",
   "execution_count": null,
   "metadata": {
    "pycharm": {
     "is_executing": true
    }
   },
   "outputs": [],
   "source": [
    "def rand_cmap(nlabels, type='bright', first_color_black=True, last_color_black=False, verbose=True):\n",
    "    \"\"\"\n",
    "    Creates a random colormap to be used together with matplotlib. Useful for segmentation tasks\n",
    "    :param nlabels: Number of labels (size of colormap)\n",
    "    :param type: 'bright' for strong colors, 'soft' for pastel colors\n",
    "    :param first_color_black: Option to use first color as black, True or False\n",
    "    :param last_color_black: Option to use last color as black, True or False\n",
    "    :param verbose: Prints the number of labels and shows the colormap. True or False\n",
    "    :return: colormap for matplotlib\n",
    "    \"\"\"\n",
    "    from matplotlib.colors import LinearSegmentedColormap\n",
    "    import colorsys\n",
    "    import numpy as np\n",
    "\n",
    "    if type not in ('bright', 'soft'):\n",
    "        print ('Please choose \"bright\" or \"soft\" for type')\n",
    "        return\n",
    "\n",
    "    if verbose:\n",
    "        print('Number of labels: ' + str(nlabels))\n",
    "\n",
    "    # Generate color map for bright colors, based on hsv\n",
    "    if type == 'bright':\n",
    "        randHSVcolors = [(np.random.uniform(low=0.0, high=1),\n",
    "                          np.random.uniform(low=0.2, high=1),\n",
    "                          np.random.uniform(low=0.9, high=1)) for i in range(nlabels)]\n",
    "\n",
    "        # Convert HSV list to RGB\n",
    "        randRGBcolors = []\n",
    "        for HSVcolor in randHSVcolors:\n",
    "            randRGBcolors.append(colorsys.hsv_to_rgb(HSVcolor[0], HSVcolor[1], HSVcolor[2]))\n",
    "\n",
    "        if first_color_black:\n",
    "            randRGBcolors[0] = [0, 0, 0]\n",
    "\n",
    "        if last_color_black:\n",
    "            randRGBcolors[-1] = [0, 0, 0]\n",
    "\n",
    "        random_colormap = LinearSegmentedColormap.from_list('new_map', randRGBcolors, N=nlabels)\n",
    "\n",
    "    # Generate soft pastel colors, by limiting the RGB spectrum\n",
    "    if type == 'soft':\n",
    "        low = 0.6\n",
    "        high = 0.95\n",
    "        randRGBcolors = [(np.random.uniform(low=low, high=high),\n",
    "                          np.random.uniform(low=low, high=high),\n",
    "                          np.random.uniform(low=low, high=high)) for i in range(nlabels)]\n",
    "\n",
    "        if first_color_black:\n",
    "            randRGBcolors[0] = [0, 0, 0]\n",
    "\n",
    "        if last_color_black:\n",
    "            randRGBcolors[-1] = [0, 0, 0]\n",
    "        random_colormap = LinearSegmentedColormap.from_list('new_map', randRGBcolors, N=nlabels)\n",
    "\n",
    "    # Display colorbar\n",
    "    if verbose:\n",
    "        from matplotlib import colors, colorbar\n",
    "        from matplotlib import pyplot as plt\n",
    "        fig, ax = plt.subplots(1, 1, figsize=(15, 0.5))\n",
    "\n",
    "        bounds = np.linspace(0, nlabels, nlabels + 1)\n",
    "        norm = colors.BoundaryNorm(bounds, nlabels)\n",
    "\n",
    "        cb = colorbar.ColorbarBase(ax, cmap=random_colormap, norm=norm, spacing='proportional', ticks=None,\n",
    "                                   boundaries=bounds, format='%1i', orientation=u'horizontal')\n",
    "\n",
    "    return random_colormap"
   ]
  },
  {
   "cell_type": "code",
   "execution_count": null,
   "metadata": {
    "pycharm": {
     "is_executing": true
    }
   },
   "outputs": [],
   "source": [
    "from gmplot import *\n",
    "import pandas as pd\n",
    "saldo_df = pd.read_csv(\"DATA\\\\DBSCAN_\"+str(0.01)+\"_\"+str(25)+\".csv\") \n",
    "\n",
    "min_lat, max_lat, min_lon, max_lon = \\\n",
    "min(saldo_df['Latitude']), max(saldo_df['Latitude']), \\\n",
    "min(saldo_df['Longitude']), max(saldo_df['Longitude'])\n",
    "\n",
    "## Create empty map with zoom level 16\n",
    "gmap = gmplot.GoogleMapPlotter(\n",
    "    min_lat + (max_lat - min_lat) / 2, \n",
    "    min_lon + (max_lon - min_lon) / 2, \n",
    "    16)\n",
    "gmap.apikey = \"*************\"\n",
    "gmap.scatter(saldo_df['Latitude'], saldo_df['Longitude'], 'blue', size=40, marker=False)\n",
    "gmap.draw('my_gm_plot.html')\n",
    "\n",
    "import os\n",
    "os.system('my_gm_plot.html')"
   ]
  },
  {
   "cell_type": "code",
   "execution_count": null,
   "metadata": {
    "pycharm": {
     "is_executing": true
    }
   },
   "outputs": [],
   "source": [
    "print(227/100)"
   ]
  },
  {
   "cell_type": "code",
   "execution_count": null,
   "metadata": {
    "pycharm": {
     "is_executing": true
    }
   },
   "outputs": [],
   "source": [
    "def ProsesDBSCAN(_eps, _min_samp):\n",
    "     # Import Library DBSCAN\n",
    "    from sklearn.cluster import DBSCAN\n",
    "    import sklearn.utils\n",
    "    from sklearn.preprocessing import StandardScaler\n",
    "    import seaborn as sns\n",
    " \n",
    "    #set style of plots\n",
    "    sns.set_style('white')\n",
    "    \n",
    "    import matplotlib.patheffects as path_effects\n",
    "    saldo_df = pd.read_csv(\"DATA\\\\DBSCAN_\"+str(_eps)+\"_\"+str(_min_samp)+\".csv\")      \n",
    "    saldo_df = saldo_df.merge(pd.DataFrame({'CountReplenish':saldo_df.groupby(['MachineGroupCode', 'Longitude','Latitude','ClusterDBSCAN'])['MachineGroupCode'].count()}), left_on=['MachineGroupCode', 'Longitude','Latitude','ClusterDBSCAN'], right_index=True)\n",
    "    saldo_df = saldo_df.drop('Id', 1)\n",
    "    saldo_df = saldo_df.drop('DateReplenish', 1)\n",
    "    saldo_df = saldo_df.drop('MachineCode', 1)\n",
    "    saldo_df.drop_duplicates(subset=None, keep=\"first\", inplace=True)\n",
    "    \n",
    "    from mpl_toolkits.basemap import Basemap\n",
    "    import matplotlib.pyplot as plt\n",
    "    from pylab import rcParams\n",
    "    %matplotlib inline\n",
    "    rcParams['figure.figsize'] = (14,10)\n",
    "    my_map = Basemap(llcrnrlon=llon, llcrnrlat=llat, #min longitude (llcrnrlon) and latitude (llcrnrlat)\n",
    "        urcrnrlon=ulon, urcrnrlat=ulat)\n",
    "    my_map.arcgisimage(service='World_Street_Map', xpixels = 3000)\n",
    "\n",
    "    labels = saldo_df[\"ClusterDBSCAN\"].to_numpy()  \n",
    "  \n",
    " \n",
    "    realClusterNum=len(set(labels)) - (1 if -1 in labels else 0) \n",
    "    unique_labels = set(labels)\n",
    "    \n",
    "    # To create a color map\n",
    "    colors = plt.get_cmap('hsv')(np.linspace(0.0, 1.0, len(unique_labels)))\n",
    "\n",
    "    #Visualization\n",
    "    for clust_number in unique_labels: \n",
    "        c = (([0.4,0.4,0.4]) if clust_number == -1 else colors[clust_number])\n",
    "        clust_set = saldo_df[saldo_df.ClusterDBSCAN == clust_number]  \n",
    "        my_map.scatter(clust_set.Longitude, clust_set.Latitude, color =c,  marker='o', s= (clust_set.CountReplenish /100) +3 ,alpha = 0.65)\n",
    "        \n",
    "        if clust_number != -1:\n",
    "            cenx=np.mean(clust_set.Longitude) \n",
    "            ceny=np.mean(clust_set.Latitude) \n",
    "            plt.text(cenx,ceny,str(clust_number), fontsize=3, color=c,\n",
    "                   path_effects=[path_effects.withStroke(linewidth=0.3, foreground=\"w\")])\n",
    "        \n",
    "    plt.title(r\"ATM's in Jakarta Clustered : EPS=\"+str(_eps)+\", MinSamples=\"+str(_min_samp), fontsize=14)        \n",
    "    plt.savefig(\"VISUALIZATION\\\\DBSCAN_\"+str(_eps)+\"_\"+str(_min_samp)+\".png\", dpi=400)\n",
    "\n",
    "\n",
    "ProsesDBSCAN(0.08,35)\n",
    "ProsesDBSCAN(0.09,35)\n",
    "ProsesDBSCAN(0.10,35)"
   ]
  },
  {
   "cell_type": "code",
   "execution_count": 5,
   "metadata": {
    "pycharm": {
     "is_executing": true,
     "name": "#%%\n"
    }
   },
   "outputs": [],
   "source": [
    "def ProsesDBSCANTanpaVisualisasi(_eps, _min_samp):\n",
    "     # Import Library DBSCAN\n",
    "    import sklearn.utils\n",
    "    from sklearn.cluster import DBSCAN\n",
    "    from sklearn import metrics\n",
    "    from sklearn.preprocessing import StandardScaler \n",
    "    import datetime\n",
    "    \n",
    "    saldo_df_clus = saldo_df[[\"Longitude\", \"Latitude\"]]\n",
    "    \n",
    "    saldo_df_clus = StandardScaler().fit_transform(saldo_df_clus)\n",
    "   \n",
    "    \n",
    "    db = DBSCAN(eps=_eps, min_samples=_min_samp,n_jobs=-1).fit(saldo_df_clus)\n",
    "    \n",
    "    labels = db.labels_ \n",
    "    saldo_df[\"ClusterDBSCAN\"]=labels\n",
    "    saldo_df.to_csv(\"DATA\\\\DBSCAN_\"+str(_eps)+\"_\"+str(_min_samp)+\".csv\", index=False)         \n",
    "    # Number of clusters in labels, ignoring noise if present.\n",
    "    n_clusters_ = len(set(labels)) - (1 if -1 in labels else 0)\n",
    "    clusterNum = len(set(labels))\n",
    "    n_noise_ = list(labels).count(-1) \n",
    "    #if n_clusters_ > 0:\n",
    "    #    print(str(_eps) + ',' + str(_min_samp) + ',' + str(n_clusters_) + ',' + str(n_noise_) + ',' + str(metrics.silhouette_score(saldo_df_clus, labels,metric=\"euclidean\",n_jobs=-1))+ ',' + str(datetime.datetime.now()) )\n",
    "    #else:\n",
    "    #    print(str(_eps) + ',' + str(_min_samp) + ',' + str(n_clusters_) + ',' + str(n_noise_) + ',-'+ ',' + str(datetime.datetime.now()) )\n",
    "        \n",
    "    #print('EPS: '+str(_eps)+' & MinSamples: '+ str(_min_samp))\n",
    "    #print('Estimated number of clusters: %d' % n_clusters_)\n",
    "    #print('Estimated number of noise points: %d' % n_noise_)\n",
    "    #if n_clusters_ > 0:\n",
    "    #    print(\"Silhouette Coefficient: %0.3f\"\n",
    "    #    % metrics.silhouette_score(saldo_df_clus, labels))\n",
    "    #else:\n",
    "    #   print(\"Silhouette Coefficient: -\")\n",
    "        \n",
    "    #print()"
   ]
  },
  {
   "cell_type": "code",
   "execution_count": 6,
   "metadata": {
    "pycharm": {
     "is_executing": true,
     "name": "#%%\n"
    }
   },
   "outputs": [],
   "source": [
    "ProsesDBSCANTanpaVisualisasi(0.04,10) "
   ]
  },
  {
   "cell_type": "code",
   "execution_count": null,
   "metadata": {
    "pycharm": {
     "is_executing": true
    }
   },
   "outputs": [],
   "source": [
    "ProsesDBSCANTanpaVisualisasi(0.1,80) "
   ]
  },
  {
   "cell_type": "code",
   "execution_count": null,
   "metadata": {
    "pycharm": {
     "is_executing": true
    },
    "scrolled": true
   },
   "outputs": [],
   "source": [
    "ProsesDBSCANTanpaVisualisasi(0.1,5)\n",
    "ProsesDBSCANTanpaVisualisasi(0.2,5)\n",
    "ProsesDBSCANTanpaVisualisasi(0.3,5)\n",
    "ProsesDBSCANTanpaVisualisasi(0.4,5)\n",
    "ProsesDBSCANTanpaVisualisasi(0.5,5)\n",
    "ProsesDBSCANTanpaVisualisasi(0.6,5)\n",
    "ProsesDBSCANTanpaVisualisasi(0.7,5)\n",
    "ProsesDBSCANTanpaVisualisasi(0.8,5)\n",
    "ProsesDBSCANTanpaVisualisasi(0.9,5)\n",
    "ProsesDBSCANTanpaVisualisasi(1.0,5)  \n",
    "\n",
    "ProsesDBSCANTanpaVisualisasi(0.1,10)\n",
    "ProsesDBSCANTanpaVisualisasi(0.2,10)\n",
    "ProsesDBSCANTanpaVisualisasi(0.3,10)\n",
    "ProsesDBSCANTanpaVisualisasi(0.4,10)\n",
    "ProsesDBSCANTanpaVisualisasi(0.5,10)\n",
    "ProsesDBSCANTanpaVisualisasi(0.6,10)\n",
    "ProsesDBSCANTanpaVisualisasi(0.7,10)\n",
    "ProsesDBSCANTanpaVisualisasi(0.8,10)\n",
    "ProsesDBSCANTanpaVisualisasi(0.9,10)\n",
    "ProsesDBSCANTanpaVisualisasi(1.0,10) \n",
    "\n",
    "ProsesDBSCANTanpaVisualisasi(0.1,20)\n",
    "ProsesDBSCANTanpaVisualisasi(0.2,20)\n",
    "ProsesDBSCANTanpaVisualisasi(0.3,20)\n",
    "ProsesDBSCANTanpaVisualisasi(0.4,20)\n",
    "ProsesDBSCANTanpaVisualisasi(0.5,20)\n",
    "ProsesDBSCANTanpaVisualisasi(0.6,20)\n",
    "ProsesDBSCANTanpaVisualisasi(0.7,20)\n",
    "ProsesDBSCANTanpaVisualisasi(0.8,20)\n",
    "ProsesDBSCANTanpaVisualisasi(0.9,20)\n",
    "ProsesDBSCANTanpaVisualisasi(1.0,20) \n",
    "\n",
    "ProsesDBSCANTanpaVisualisasi(0.1,30)\n",
    "ProsesDBSCANTanpaVisualisasi(0.2,30)\n",
    "ProsesDBSCANTanpaVisualisasi(0.3,30)\n",
    "ProsesDBSCANTanpaVisualisasi(0.4,30)\n",
    "ProsesDBSCANTanpaVisualisasi(0.5,30)\n",
    "ProsesDBSCANTanpaVisualisasi(0.6,30)\n",
    "ProsesDBSCANTanpaVisualisasi(0.7,30)\n",
    "ProsesDBSCANTanpaVisualisasi(0.8,30)\n",
    "ProsesDBSCANTanpaVisualisasi(0.9,30)\n",
    "ProsesDBSCANTanpaVisualisasi(1.0,30)  "
   ]
  },
  {
   "cell_type": "code",
   "execution_count": null,
   "metadata": {
    "collapsed": true,
    "pycharm": {
     "is_executing": true
    }
   },
   "outputs": [],
   "source": [
    "print('EPS,MinSamples,JumlahCluster,JumlahNoise,SilhouetteCoef')\n",
    "#ProsesDBSCANTanpaVisualisasi(0.05,5)\n",
    "#ProsesDBSCANTanpaVisualisasi(0.1,5)\n",
    "#ProsesDBSCANTanpaVisualisasi(0.15,5)\n",
    "#ProsesDBSCANTanpaVisualisasi(0.2,5)\n",
    "#ProsesDBSCANTanpaVisualisasi(0.25,5)\n",
    "#ProsesDBSCANTanpaVisualisasi(0.3,5)\n",
    "#ProsesDBSCANTanpaVisualisasi(0.35,5)\n",
    "#ProsesDBSCANTanpaVisualisasi(0.4,5)\n",
    "#ProsesDBSCANTanpaVisualisasi(0.45,5)\n",
    "#ProsesDBSCANTanpaVisualisasi(0.5,5)  \n",
    "\n",
    "\n",
    "#ProsesDBSCANTanpaVisualisasi(0.05,10)\n",
    "#ProsesDBSCANTanpaVisualisasi(0.1,10)\n",
    "#ProsesDBSCANTanpaVisualisasi(0.15,10)\n",
    "#ProsesDBSCANTanpaVisualisasi(0.2,10)\n",
    "#ProsesDBSCANTanpaVisualisasi(0.25,10)\n",
    "#ProsesDBSCANTanpaVisualisasi(0.3,10)\n",
    "#ProsesDBSCANTanpaVisualisasi(0.35,10)\n",
    "#ProsesDBSCANTanpaVisualisasi(0.4,10)\n",
    "#ProsesDBSCANTanpaVisualisasi(0.45,10)\n",
    "#ProsesDBSCANTanpaVisualisasi(0.5,10)  \n",
    "\n",
    "ProsesDBSCANTanpaVisualisasi(0.05,15)\n",
    "ProsesDBSCANTanpaVisualisasi(0.1,15)\n",
    "ProsesDBSCANTanpaVisualisasi(0.15,15)\n",
    "ProsesDBSCANTanpaVisualisasi(0.2,15)\n",
    "ProsesDBSCANTanpaVisualisasi(0.25,15)\n",
    "ProsesDBSCANTanpaVisualisasi(0.3,15)\n",
    "ProsesDBSCANTanpaVisualisasi(0.35,15)\n",
    "ProsesDBSCANTanpaVisualisasi(0.4,15)\n",
    "ProsesDBSCANTanpaVisualisasi(0.45,15)\n",
    "ProsesDBSCANTanpaVisualisasi(0.5,15)  \n",
    "\n",
    "\n",
    "\"\"\"\n",
    "EPS,MinSamples,JumlahCluster,JumlahNoise,SilhouetteCoef\n",
    "0.1,5,312,26,-0.10704322970981985\n",
    "0.2,5,81,20,-0.23761343303427016\n",
    "0.3,5,29,14,0.00952923226102602\n",
    "0.4,5,14,12,0.24523991588969474\n",
    "0.5,5,7,4,0.37597340754701086\n",
    "\n",
    "0.05,5,758,38,0.564036702902488\n",
    "0.15,5,148,24,-0.24401294757907768\n",
    "0.25,5,42,14,-0.0321191589525487\n",
    "0.35,5,19,14,0.08147350160869803\n",
    "0.45,5,9,8,0.4180394513403235\n",
    "\n",
    "0.05,10,751,81,0.5645860387318515\n",
    "0.1,10,311,32,-0.10710487326948491\n",
    "0.15,10,147,30,-0.24400609558231257\n",
    "0.2,10,81,20,-0.23761343303427016\n",
    "0.25,10,42,14,-0.0321191589525487\n",
    "0.3,10,29,14,0.00952923226102602\n",
    "0.35,10,19,14,0.08147350160869803 \n",
    "0.35,10,19,14,0.08147350160869803\n",
    "0.4,10,14,12,0.24523991588969474\n",
    "0.45,10,9,8,0.4180394513403235\n",
    "0.5,10,7,4,0.37597340754701086\n",
    "\n",
    "0.05,15,734,279,0.563823627373119\n",
    "0.1,15,303,123,-0.10521758083241449\n",
    "0.15,15,141,100,-0.24450794834992087\n",
    "0.2,15,78,56,-0.23765393401236068\n",
    "0.25,15,41,24,-0.032239147209341415\n",
    "0.3,15,28,24,0.009409432570405298\n",
    "0.35,15,19,14,0.08147350160869803\n",
    "0.4,15,14,12,0.24523991588969474\n",
    "0.45,15,9,8,0.4180394513403235\n",
    "0.5,15,7,4,0.37597340754701086\n",
    "\n",
    "\"\"\""
   ]
  },
  {
   "cell_type": "code",
   "execution_count": null,
   "metadata": {
    "collapsed": true,
    "pycharm": {
     "is_executing": true
    }
   },
   "outputs": [],
   "source": [
    "print('EPS,MinSamples,JumlahCluster,JumlahNoise,SilhouetteCoef,TimeStamp')\n",
    "ProsesDBSCANTanpaVisualisasi(0.05,25)\n",
    "#ProsesDBSCANTanpaVisualisasi(0.1,25) \n",
    "#ProsesDBSCANTanpaVisualisasi(0.15,25) \n",
    "#ProsesDBSCANTanpaVisualisasi(0.2,25) \n",
    "#ProsesDBSCANTanpaVisualisasi(0.25,25) \n",
    "#ProsesDBSCANTanpaVisualisasi(0.3,25)  \n",
    "#ProsesDBSCANTanpaVisualisasi(0.35,25)  \n",
    "#ProsesDBSCANTanpaVisualisasi(0.4,25)  \n",
    "#ProsesDBSCANTanpaVisualisasi(0.45,25)  \n",
    "#ProsesDBSCANTanpaVisualisasi(0.5,25)\n",
    "\n",
    "ProsesDBSCANTanpaVisualisasi(0.05,75) \n",
    "ProsesDBSCANTanpaVisualisasi(0.1,75) \n",
    "ProsesDBSCANTanpaVisualisasi(0.15,75) \n",
    "ProsesDBSCANTanpaVisualisasi(0.2,75) \n",
    "ProsesDBSCANTanpaVisualisasi(0.25,75) \n",
    "ProsesDBSCANTanpaVisualisasi(0.3,75)  \n",
    "ProsesDBSCANTanpaVisualisasi(0.35,75)  \n",
    "ProsesDBSCANTanpaVisualisasi(0.4,75)  \n",
    "ProsesDBSCANTanpaVisualisasi(0.45,75)  \n",
    "ProsesDBSCANTanpaVisualisasi(0.5,75) \n",
    "\n",
    "ProsesDBSCANTanpaVisualisasi(0.05,125) \n",
    "ProsesDBSCANTanpaVisualisasi(0.1,125) \n",
    "ProsesDBSCANTanpaVisualisasi(0.15,125) \n",
    "ProsesDBSCANTanpaVisualisasi(0.2,125) \n",
    "ProsesDBSCANTanpaVisualisasi(0.25,125) \n",
    "ProsesDBSCANTanpaVisualisasi(0.3,125)  \n",
    "ProsesDBSCANTanpaVisualisasi(0.35,125)  \n",
    "ProsesDBSCANTanpaVisualisasi(0.4,125)  \n",
    "ProsesDBSCANTanpaVisualisasi(0.45,125)  \n",
    "ProsesDBSCANTanpaVisualisasi(0.5,125)   \n",
    "\n",
    "\"\"\"\n",
    "EPS,MinSamples,JumlahCluster,JumlahNoise,SilhouetteCoef\n",
    "0.1,25,288,414,-0.10616941728421651\n",
    "0.15,25,136,201,-0.2448373910274428,2020-05-08 10:19:50.393109\n",
    "0.2,25,75,117,-0.2383836722877819\n",
    "0.25,25,39,66,-0.032032866202128196,2020-05-08 10:32:59.497507\n",
    "0.3,25,26,66,0.013420689551944748,2020-05-08 10:46:04.842105\n",
    "0.35,25,18,36,0.1553852009590386,2020-05-08 10:59:34.278636\n",
    "0.4,25,14,12,0.24523991588969474,2020-05-08 11:14:05.151551\n",
    "0.45,25,9,8,0.4180394513403235,2020-05-08 11:30:51.138652\n",
    "0.5,25,7,4,0.37597340754701086,2020-05-08 11:47:53.502755\n",
    "0.05,25,687,1172,0.55693218370094,2020-05-08 15:27:41.756182\n",
    "0.05,75,498,11218,0.44913051312843616,2020-05-08 15:38:53.090906\n",
    "0.1,75,202,5074,-0.12577172542281775,2020-05-08 15:50:24.231360\n",
    "0.15,75,99,2263,-0.25171044369536166,2020-05-08 16:02:09.317845\n",
    "0.2,75,54,1212,-0.13935102277085737,2020-05-08 16:14:19.737629\n",
    "0.25,75,29,579,0.017397811297985774,2020-05-08 16:27:25.614622\n",
    "0.3,75,20,438,0.04473521656507094,2020-05-08 16:41:33.306723\n",
    "0.35,75,15,261,0.16600497666465133,2020-05-08 16:56:07.579035\n",
    "0.4,75,12,218,0.23718911062254208,2020-05-08 17:11:49.311415\n",
    "0.45,75,8,86,0.46287429160896076,2020-05-08 17:31:33.945215\n",
    "0.5,75,6,57,0.49669850415089317,2020-05-08 17:50:38.776674\n",
    "0.05,125,326,27387,0.2767789322608582,2020-05-08 18:00:46.079134\n",
    "0.1,125,134,11541,-0.17579834902380959,2020-05-08 18:10:59.409826\n",
    "0.15,125,61,5957,-0.24690770238652426,2020-05-08 18:23:47.203958\n",
    "0.2,125,32,3182,-0.13992134729330744,2020-05-08 18:35:18.016025\n",
    "0.25,125,17,1632,0.011121682769276985,2020-05-08 18:47:04.146025\n",
    "0.3,125,13,1065,0.052531145609422784,2020-05-08 18:59:47.130986\n",
    "0.35,125,8,874,0.20833282798791153,2020-05-08 19:12:42.492466\n",
    "0.4,125,6,760,0.2736400286359969,2020-05-08 19:25:49.351806\n",
    "0.45,125,4,452,0.5532520537535611,2020-05-08 19:40:17.236445\n",
    "0.5,125,4,266,0.573182493018135,2020-05-08 19:55:29.027442\n",
    "\"\"\""
   ]
  },
  {
   "cell_type": "code",
   "execution_count": null,
   "metadata": {
    "collapsed": true,
    "pycharm": {
     "is_executing": true
    }
   },
   "outputs": [],
   "source": [
    "print('EPS,MinSamples,JumlahCluster,JumlahNoise,SilhouetteCoef,TimeStamp')\n",
    "\"\"\"\n",
    "ProsesDBSCANTanpaVisualisasi(0.01,50)\n",
    "ProsesDBSCANTanpaVisualisasi(0.02,50)\n",
    "ProsesDBSCANTanpaVisualisasi(0.03,50)\n",
    "ProsesDBSCANTanpaVisualisasi(0.04,50)\n",
    "ProsesDBSCANTanpaVisualisasi(0.05,50)\n",
    "ProsesDBSCANTanpaVisualisasi(0.06,50)\n",
    "ProsesDBSCANTanpaVisualisasi(0.07,50)\n",
    "ProsesDBSCANTanpaVisualisasi(0.08,50)\n",
    "ProsesDBSCANTanpaVisualisasi(0.09,50)\n",
    "ProsesDBSCANTanpaVisualisasi(0.10,50)\n",
    "\n",
    "ProsesDBSCANTanpaVisualisasi(0.01,100)\n",
    "ProsesDBSCANTanpaVisualisasi(0.02,100)\n",
    "ProsesDBSCANTanpaVisualisasi(0.03,100)\n",
    "ProsesDBSCANTanpaVisualisasi(0.04,100)\n",
    "ProsesDBSCANTanpaVisualisasi(0.05,100)\n",
    "ProsesDBSCANTanpaVisualisasi(0.06,100)\n",
    "ProsesDBSCANTanpaVisualisasi(0.07,100)\n",
    "ProsesDBSCANTanpaVisualisasi(0.08,100)\n",
    "ProsesDBSCANTanpaVisualisasi(0.09,100)\n",
    "ProsesDBSCANTanpaVisualisasi(0.10,100)\n",
    "\n",
    "ProsesDBSCANTanpaVisualisasi(0.01,150)\n",
    "ProsesDBSCANTanpaVisualisasi(0.02,150)\n",
    "ProsesDBSCANTanpaVisualisasi(0.03,150)\n",
    "ProsesDBSCANTanpaVisualisasi(0.04,150)\n",
    "ProsesDBSCANTanpaVisualisasi(0.05,150)\n",
    "ProsesDBSCANTanpaVisualisasi(0.06,150)\n",
    "ProsesDBSCANTanpaVisualisasi(0.07,150)\n",
    "ProsesDBSCANTanpaVisualisasi(0.08,150)\n",
    "ProsesDBSCANTanpaVisualisasi(0.09,150)\n",
    "ProsesDBSCANTanpaVisualisasi(0.10,150)\n",
    "\n",
    "ProsesDBSCANTanpaVisualisasi(0.01,250)\n",
    "\"\"\"\n",
    "ProsesDBSCANTanpaVisualisasi(0.02,250)\n",
    "ProsesDBSCANTanpaVisualisasi(0.03,250)\n",
    "ProsesDBSCANTanpaVisualisasi(0.04,250)\n",
    "ProsesDBSCANTanpaVisualisasi(0.05,250)\n",
    "ProsesDBSCANTanpaVisualisasi(0.06,250)\n",
    "ProsesDBSCANTanpaVisualisasi(0.07,250)\n",
    "ProsesDBSCANTanpaVisualisasi(0.08,250)\n",
    "ProsesDBSCANTanpaVisualisasi(0.09,250)\n",
    "ProsesDBSCANTanpaVisualisasi(0.10,250)\n",
    "\n",
    "\n",
    "ProsesDBSCANTanpaVisualisasi(0.01,25)\n",
    "ProsesDBSCANTanpaVisualisasi(0.02,25)\n",
    "ProsesDBSCANTanpaVisualisasi(0.03,25)\n",
    "ProsesDBSCANTanpaVisualisasi(0.04,25) \n",
    "ProsesDBSCANTanpaVisualisasi(0.06,25)\n",
    "ProsesDBSCANTanpaVisualisasi(0.07,25)\n",
    "ProsesDBSCANTanpaVisualisasi(0.08,25)\n",
    "ProsesDBSCANTanpaVisualisasi(0.09,25)\n",
    "ProsesDBSCANTanpaVisualisasi(0.10,25)\n",
    "\n",
    "\n",
    "ProsesDBSCANTanpaVisualisasi(0.01,75)\n",
    "ProsesDBSCANTanpaVisualisasi(0.02,75)\n",
    "ProsesDBSCANTanpaVisualisasi(0.03,75)\n",
    "ProsesDBSCANTanpaVisualisasi(0.04,75) \n",
    "ProsesDBSCANTanpaVisualisasi(0.06,75)\n",
    "ProsesDBSCANTanpaVisualisasi(0.07,75)\n",
    "ProsesDBSCANTanpaVisualisasi(0.08,75)\n",
    "ProsesDBSCANTanpaVisualisasi(0.09,75)\n",
    "ProsesDBSCANTanpaVisualisasi(0.10,75)\n",
    "\n",
    "ProsesDBSCANTanpaVisualisasi(0.01,125)\n",
    "ProsesDBSCANTanpaVisualisasi(0.02,125)\n",
    "ProsesDBSCANTanpaVisualisasi(0.03,125)\n",
    "ProsesDBSCANTanpaVisualisasi(0.04,125) \n",
    "ProsesDBSCANTanpaVisualisasi(0.06,125)\n",
    "ProsesDBSCANTanpaVisualisasi(0.07,125)\n",
    "ProsesDBSCANTanpaVisualisasi(0.08,125)\n",
    "ProsesDBSCANTanpaVisualisasi(0.09,125)\n",
    "ProsesDBSCANTanpaVisualisasi(0.10,125)\n",
    "\n",
    "\"\"\"\n",
    "0.01,50,1104,9663,0.8676341525372541,2020-05-09 16:12:09.605313\n",
    "0.02,50,1001,7640,0.8462883302723102,2020-05-09 16:22:53.033135\n",
    "0.03,50,867,6109,0.7788958352912116,2020-05-09 16:33:41.803406\n",
    "0.04,50,713,4804,0.6463921841013347,2020-05-09 16:43:59.824301\n",
    "0.05,50,613,3837,0.5302248183396578,2020-05-09 16:55:14.149254\n",
    "0.06,50,524,3179,0.41555803020887083,2020-05-09 17:06:26.309450\n",
    "0.07,50,454,2618,0.29638332926879446,2020-05-09 17:17:50.222607\n",
    "0.08,50,367,2335,0.16463638630129848,2020-05-09 17:29:16.800229\n",
    "0.09,50,310,1936,0.005917172873563588,2020-05-09 17:39:50.103605\n",
    "0.1,50,256,1611,-0.10750815729577136,2020-05-09 17:50:21.525317\n",
    "0.01,100,609,45824,0.41904221817326404,2020-05-09 18:00:40.965751\n",
    "0.02,100,594,37402,0.48393636247126404,2020-05-09 18:10:59.391335\n",
    "0.03,100,523,31508,0.47905884512123426,2020-05-09 18:21:16.984420\n",
    "0.04,100,432,25519,0.40970351516155085,2020-05-09 18:31:40.590344\n",
    "0.05,100,388,20381,0.35549710652642424,2020-05-09 18:42:00.740904\n",
    "0.06,100,331,17402,0.27637509098207097,2020-05-09 18:52:21.523904\n",
    "0.07,100,279,15399,0.175623874324614,2020-05-09 19:02:43.500797\n",
    "0.08,100,230,12308,0.07857616609695388,2020-05-09 19:13:08.517603\n",
    "0.09,100,194,10343,-0.07435490358374999,2020-05-09 19:23:36.725241\n",
    "0.1,100,158,8764,-0.15703630707792338,2020-05-09 19:34:00.425154\n",
    "0.01,150,242,91700,-0.1460609467420811,2020-05-09 19:44:13.873894\n",
    "0.02,150,287,75985,0.016920652064536384,2020-05-09 19:54:24.698409\n",
    "0.03,150,296,60137,0.14433811334615082,2020-05-09 20:04:32.845524\n",
    "0.04,150,269,45926,0.2057491237099155,2020-05-09 20:14:36.126688\n",
    "0.05,150,253,37354,0.16683411277321977,2020-05-09 20:24:36.248392\n",
    "0.06,150,219,31569,0.1334683765452125,2020-05-09 20:34:37.083109\n",
    "0.07,150,188,26856,0.06552717619251036,2020-05-09 20:44:43.553429\n",
    "0.08,150,157,21580,0.0038417395822420573,2020-05-09 20:55:02.458183\n",
    "0.09,150,128,18676,-0.11855060688202139,2020-05-09 21:06:40.485373\n",
    "0.1,150,106,15413,-0.18474869264800278,2020-05-09 21:18:29.165350\n",
    "0.01,250,87,122272,-0.4835073936871145,2020-05-09 21:30:42.675426\n",
    "0.02,250,111,110844,-0.3720989329262527,2020-05-09 23:15:44.658763\n",
    "0.03,250,148,90295,-0.18283009532219108,2020-05-09 23:27:06.249559\n",
    "0.04,250,155,69554,-0.03509933875248453,2020-05-09 23:38:39.560079\n",
    "0.05,250,152,58779,-0.02546772572400078,2020-05-09 23:50:47.774424\n",
    "0.06,250,138,49237,-0.04840691509195279,2020-05-10 00:01:45.787800\n",
    "0.07,250,117,42343,-0.06399745934389284,2020-05-10 00:14:08.160650\n",
    "0.08,250,100,33764,-0.06964832374323288,2020-05-10 00:25:49.654531\n",
    "0.09,250,86,28486,-0.10009728592110492,2020-05-10 00:37:08.391974\n",
    "0.1,250,72,23316,-0.1324919589979431,2020-05-10 00:48:35.026879\n",
    "0.01,25,1298,2564,0.9576055991325848,2020-05-10 00:59:04.422909\n",
    "0.02,25,1152,2164,0.9148215214781793,2020-05-10 01:09:28.806754\n",
    "0.03,25,988,1715,0.8315911437889112,2020-05-10 01:19:55.768324\n",
    "0.04,25,808,1373,0.6830040591330973,2020-05-10 01:30:17.159749\n",
    "0.06,25,585,965,0.44004226403580565,2020-05-10 01:40:39.642449\n",
    "0.07,25,504,814,0.31164349816464704,2020-05-10 01:51:00.315894\n",
    "0.08,25,410,767,0.17491816174183863,2020-05-10 02:01:32.007600\n",
    "0.09,25,349,483,0.01330374414532364,2020-05-10 02:12:03.699138\n",
    "0.1,25,288,414,-0.10616941728421651,2020-05-10 02:22:28.399072\n",
    "0.01,75,843,26088,0.6607434286148877,2020-05-10 02:32:35.117558\n",
    "0.02,75,787,21154,0.6798764160641911,2020-05-10 02:42:36.629635\n",
    "0.03,75,691,17342,0.6444097183401097,2020-05-10 02:52:38.097484\n",
    "0.04,75,571,13841,0.5400387407358451,2020-05-10 03:02:43.422468\n",
    "0.06,75,426,9425,0.356688271972982,2020-05-10 03:12:45.996489\n",
    "0.07,75,362,8483,0.2342384088932579,2020-05-10 03:22:51.004030\n",
    "0.08,75,294,6974,0.11923098916247024,2020-05-10 03:33:00.371848\n",
    "0.09,75,246,5979,-0.03611261435580903,2020-05-10 03:43:16.493332\n",
    "0.1,75,202,5074,-0.12577172542281775,2020-05-10 03:53:30.657423\n",
    "0.01,125,433,65724,0.17200823056639442,2020-05-10 04:03:41.012904\n",
    "0.02,125,455,53175,0.29173134669358014,2020-05-10 04:13:50.515543\n",
    "0.03,125,418,43371,0.33633593374930715,2020-05-10 04:23:55.805529\n",
    "0.04,125,352,34520,0.3109752962554235,2020-05-10 04:34:49.277338\n",
    "0.06,125,280,23252,0.21958091360772483,2020-05-10 04:45:34.376247\n",
    "0.07,125,236,20368,0.12523772600344701,2020-05-10 04:56:14.023693\n",
    "0.08,125,193,16645,0.04236439804386801,2020-05-10 05:06:55.526953\n",
    "0.09,125,159,14420,-0.10476283209106434,2020-05-10 05:20:33.161164\n",
    "0.1,125,134,11541,-0.17579834902380959,2020-05-10 05:31:01.039523\n",
    "\"\"\""
   ]
  },
  {
   "cell_type": "code",
   "execution_count": null,
   "metadata": {
    "pycharm": {
     "is_executing": true,
     "name": "#%%\n"
    }
   },
   "outputs": [],
   "source": [
    "print('EPS,MinSamples,JumlahCluster,JumlahNoise,SilhouetteCoef,TimeStamp')\n",
    "\n",
    "ProsesDBSCANTanpaVisualisasi(0.06,5)\n",
    "ProsesDBSCANTanpaVisualisasi(0.07,5)\n",
    "ProsesDBSCANTanpaVisualisasi(0.08,5)\n",
    "ProsesDBSCANTanpaVisualisasi(0.09,5)\n",
    "ProsesDBSCANTanpaVisualisasi(0.10,5)\n",
    "\n",
    "ProsesDBSCANTanpaVisualisasi(0.01,10)\n",
    "ProsesDBSCANTanpaVisualisasi(0.02,10)\n",
    "ProsesDBSCANTanpaVisualisasi(0.03,10)\n",
    "ProsesDBSCANTanpaVisualisasi(0.04,10)\n",
    "ProsesDBSCANTanpaVisualisasi(0.05,10)\n",
    "ProsesDBSCANTanpaVisualisasi(0.06,10)\n",
    "ProsesDBSCANTanpaVisualisasi(0.07,10)\n",
    "ProsesDBSCANTanpaVisualisasi(0.08,10)\n",
    "ProsesDBSCANTanpaVisualisasi(0.09,10)\n",
    "ProsesDBSCANTanpaVisualisasi(0.10,10)\n",
    "\n",
    "ProsesDBSCANTanpaVisualisasi(0.01,15)\n",
    "ProsesDBSCANTanpaVisualisasi(0.02,15)\n",
    "ProsesDBSCANTanpaVisualisasi(0.03,15)\n",
    "ProsesDBSCANTanpaVisualisasi(0.04,15)\n",
    "ProsesDBSCANTanpaVisualisasi(0.05,15)\n",
    "ProsesDBSCANTanpaVisualisasi(0.06,15)\n",
    "ProsesDBSCANTanpaVisualisasi(0.07,15)\n",
    "ProsesDBSCANTanpaVisualisasi(0.08,15)\n",
    "ProsesDBSCANTanpaVisualisasi(0.09,15)\n",
    "ProsesDBSCANTanpaVisualisasi(0.10,15)\n",
    "\n",
    "ProsesDBSCANTanpaVisualisasi(0.01,20)\n",
    "ProsesDBSCANTanpaVisualisasi(0.02,20)\n",
    "ProsesDBSCANTanpaVisualisasi(0.03,20)\n",
    "ProsesDBSCANTanpaVisualisasi(0.04,20)\n",
    "ProsesDBSCANTanpaVisualisasi(0.05,20)\n",
    "ProsesDBSCANTanpaVisualisasi(0.06,20)\n",
    "ProsesDBSCANTanpaVisualisasi(0.07,20)\n",
    "ProsesDBSCANTanpaVisualisasi(0.08,20)\n",
    "ProsesDBSCANTanpaVisualisasi(0.09,20)\n",
    "ProsesDBSCANTanpaVisualisasi(0.10,20)\n",
    "\n",
    "ProsesDBSCANTanpaVisualisasi(0.01,30) \n",
    "ProsesDBSCANTanpaVisualisasi(0.02,30)\n",
    "ProsesDBSCANTanpaVisualisasi(0.03,30)\n",
    "ProsesDBSCANTanpaVisualisasi(0.04,30)\n",
    "ProsesDBSCANTanpaVisualisasi(0.05,30)\n",
    "ProsesDBSCANTanpaVisualisasi(0.06,30)\n",
    "ProsesDBSCANTanpaVisualisasi(0.07,30)\n",
    "ProsesDBSCANTanpaVisualisasi(0.08,30)\n",
    "ProsesDBSCANTanpaVisualisasi(0.09,30)\n",
    "ProsesDBSCANTanpaVisualisasi(0.10,30)\n",
    "\n",
    "ProsesDBSCANTanpaVisualisasi(0.01,35)\n",
    "ProsesDBSCANTanpaVisualisasi(0.02,35)\n",
    "ProsesDBSCANTanpaVisualisasi(0.03,35)\n",
    "ProsesDBSCANTanpaVisualisasi(0.04,35) \n",
    "ProsesDBSCANTanpaVisualisasi(0.05,35) \n",
    "ProsesDBSCANTanpaVisualisasi(0.06,35)\n",
    "ProsesDBSCANTanpaVisualisasi(0.07,35)\n",
    "ProsesDBSCANTanpaVisualisasi(0.08,35)\n",
    "ProsesDBSCANTanpaVisualisasi(0.09,35)\n",
    "ProsesDBSCANTanpaVisualisasi(0.10,35)\n",
    "\n",
    "\"\"\"\n",
    "EPS,MinSamples,JumlahCluster,JumlahNoise,SilhouetteCoef,TimeStamp\n",
    "0.01,5,1454,53,0.9892398043584756,2020-05-10 23:01:51.595062\n",
    "0.02,5,1285,45,0.9410510895100401,2020-05-10 23:12:17.313042\n",
    "0.03,5,1092,45,0.8514758192949635,2020-05-10 23:22:41.968625\n",
    "0.04,5,892,38,0.6951944634689796,2020-05-10 23:33:00.039483\n",
    "0.05,5,758,38,0.564036702902488,2020-05-10 23:43:18.187499\n",
    "\"\"\"\n"
   ]
  },
  {
   "cell_type": "code",
   "execution_count": null,
   "metadata": {
    "pycharm": {
     "is_executing": true
    },
    "scrolled": true
   },
   "outputs": [],
   "source": [
    "### Eps: 0.05 & MinSamples: 25"
   ]
  },
  {
   "cell_type": "markdown",
   "metadata": {},
   "source": [
    "### Eps: 0.05 & MinSamples: 25"
   ]
  },
  {
   "cell_type": "code",
   "execution_count": null,
   "metadata": {
    "collapsed": true,
    "pycharm": {
     "is_executing": true,
     "name": "#%%\n"
    }
   },
   "outputs": [],
   "source": [
    "ProsesDBSCAN(0.05,25)"
   ]
  },
  {
   "cell_type": "markdown",
   "metadata": {},
   "source": [
    "### Eps: 0.1 & MinSamples: 25"
   ]
  },
  {
   "cell_type": "code",
   "execution_count": null,
   "metadata": {
    "collapsed": true,
    "pycharm": {
     "is_executing": true,
     "name": "#%%\n"
    }
   },
   "outputs": [],
   "source": [
    "ProsesDBSCAN(0.1,25)"
   ]
  },
  {
   "cell_type": "markdown",
   "metadata": {},
   "source": [
    "### Eps: 0.15 & MinSamples: 25"
   ]
  },
  {
   "cell_type": "code",
   "execution_count": null,
   "metadata": {
    "collapsed": true,
    "pycharm": {
     "is_executing": true,
     "name": "#%%\n"
    }
   },
   "outputs": [],
   "source": [
    "ProsesDBSCAN(0.15,25)"
   ]
  },
  {
   "cell_type": "markdown",
   "metadata": {},
   "source": [
    "### Eps: 0.2 & MinSamples: 25"
   ]
  },
  {
   "cell_type": "code",
   "execution_count": null,
   "metadata": {
    "collapsed": true,
    "pycharm": {
     "is_executing": true,
     "name": "#%%\n"
    }
   },
   "outputs": [],
   "source": [
    "ProsesDBSCAN(0.2,25)"
   ]
  },
  {
   "cell_type": "markdown",
   "metadata": {},
   "source": [
    "### Eps: 0.25 & MinSamples: 25"
   ]
  },
  {
   "cell_type": "code",
   "execution_count": null,
   "metadata": {
    "collapsed": true,
    "pycharm": {
     "is_executing": true,
     "name": "#%%\n"
    }
   },
   "outputs": [],
   "source": [
    "ProsesDBSCAN(0.25,25)"
   ]
  },
  {
   "cell_type": "markdown",
   "metadata": {},
   "source": [
    "### Eps: 0.3 & MinSamples: 25"
   ]
  },
  {
   "cell_type": "code",
   "execution_count": null,
   "metadata": {
    "collapsed": true,
    "pycharm": {
     "is_executing": true,
     "name": "#%%\n"
    }
   },
   "outputs": [],
   "source": [
    "ProsesDBSCAN(0.3,25)"
   ]
  },
  {
   "cell_type": "markdown",
   "metadata": {},
   "source": [
    "### Eps: 0.35 & MinSamples: 25"
   ]
  },
  {
   "cell_type": "code",
   "execution_count": null,
   "metadata": {
    "collapsed": true,
    "pycharm": {
     "is_executing": true,
     "name": "#%%\n"
    }
   },
   "outputs": [],
   "source": [
    "ProsesDBSCAN(0.35,25)"
   ]
  },
  {
   "cell_type": "markdown",
   "metadata": {},
   "source": [
    "### Eps: 0.4 & MinSamples: 25"
   ]
  },
  {
   "cell_type": "code",
   "execution_count": null,
   "metadata": {
    "collapsed": true,
    "pycharm": {
     "is_executing": true,
     "name": "#%%\n"
    }
   },
   "outputs": [],
   "source": [
    "ProsesDBSCAN(0.4,25)"
   ]
  },
  {
   "cell_type": "markdown",
   "metadata": {},
   "source": [
    "### Eps: 0.45 & MinSamples: 25"
   ]
  },
  {
   "cell_type": "code",
   "execution_count": null,
   "metadata": {
    "collapsed": true,
    "pycharm": {
     "is_executing": true,
     "name": "#%%\n"
    }
   },
   "outputs": [],
   "source": [
    "ProsesDBSCAN(0.45,25)"
   ]
  },
  {
   "cell_type": "markdown",
   "metadata": {},
   "source": [
    "### Eps: 0.5 & MinSamples: 25"
   ]
  },
  {
   "cell_type": "code",
   "execution_count": null,
   "metadata": {
    "collapsed": true,
    "pycharm": {
     "is_executing": true,
     "name": "#%%\n"
    }
   },
   "outputs": [],
   "source": [
    "ProsesDBSCAN(0.5,25)"
   ]
  },
  {
   "cell_type": "markdown",
   "metadata": {},
   "source": [
    "### Eps: 0.05 & MinSamples: 75"
   ]
  },
  {
   "cell_type": "code",
   "execution_count": null,
   "metadata": {
    "collapsed": true,
    "pycharm": {
     "is_executing": true,
     "name": "#%%\n"
    }
   },
   "outputs": [],
   "source": [
    " ProsesDBSCAN(0.05,75)"
   ]
  },
  {
   "cell_type": "markdown",
   "metadata": {},
   "source": [
    "### Eps: 0.1 & MinSamples: 75"
   ]
  },
  {
   "cell_type": "code",
   "execution_count": null,
   "metadata": {
    "collapsed": true,
    "pycharm": {
     "is_executing": true,
     "name": "#%%\n"
    }
   },
   "outputs": [],
   "source": [
    " ProsesDBSCAN(0.1,75)"
   ]
  },
  {
   "cell_type": "markdown",
   "metadata": {},
   "source": [
    "### Eps: 0.15 & MinSamples: 75"
   ]
  },
  {
   "cell_type": "code",
   "execution_count": null,
   "metadata": {
    "collapsed": true,
    "pycharm": {
     "is_executing": true,
     "name": "#%%\n"
    }
   },
   "outputs": [],
   "source": [
    " ProsesDBSCAN(0.15,75)"
   ]
  },
  {
   "cell_type": "markdown",
   "metadata": {},
   "source": [
    "### Eps: 0.2 & MinSamples: 75"
   ]
  },
  {
   "cell_type": "code",
   "execution_count": null,
   "metadata": {
    "pycharm": {
     "is_executing": true,
     "name": "#%%\n"
    }
   },
   "outputs": [],
   "source": [
    " ProsesDBSCAN(0.2,75)"
   ]
  },
  {
   "cell_type": "markdown",
   "metadata": {},
   "source": [
    "### Eps: 0.25 & MinSamples: 75"
   ]
  },
  {
   "cell_type": "code",
   "execution_count": null,
   "metadata": {
    "pycharm": {
     "is_executing": true,
     "name": "#%%\n"
    }
   },
   "outputs": [],
   "source": [
    " ProsesDBSCAN(0.25,75)"
   ]
  },
  {
   "cell_type": "markdown",
   "metadata": {},
   "source": [
    "### Eps: 0.3 & MinSamples: 75"
   ]
  },
  {
   "cell_type": "code",
   "execution_count": null,
   "metadata": {
    "pycharm": {
     "is_executing": true,
     "name": "#%%\n"
    }
   },
   "outputs": [],
   "source": [
    " ProsesDBSCAN(0.3,75)"
   ]
  },
  {
   "cell_type": "markdown",
   "metadata": {},
   "source": [
    "### Eps: 0.35 & MinSamples: 75"
   ]
  },
  {
   "cell_type": "code",
   "execution_count": null,
   "metadata": {
    "pycharm": {
     "is_executing": true,
     "name": "#%%\n"
    }
   },
   "outputs": [],
   "source": [
    " ProsesDBSCAN(0.35,75)"
   ]
  },
  {
   "cell_type": "markdown",
   "metadata": {},
   "source": [
    "### Eps: 0.4 & MinSamples: 75"
   ]
  },
  {
   "cell_type": "code",
   "execution_count": null,
   "metadata": {
    "pycharm": {
     "is_executing": true,
     "name": "#%%\n"
    }
   },
   "outputs": [],
   "source": [
    " ProsesDBSCAN(0.4,75)"
   ]
  },
  {
   "cell_type": "markdown",
   "metadata": {},
   "source": [
    "### Eps: 0.45 & MinSamples: 75"
   ]
  },
  {
   "cell_type": "code",
   "execution_count": null,
   "metadata": {
    "pycharm": {
     "is_executing": true,
     "name": "#%%\n"
    }
   },
   "outputs": [],
   "source": [
    " ProsesDBSCAN(0.45,75)"
   ]
  },
  {
   "cell_type": "markdown",
   "metadata": {},
   "source": [
    "### Eps: 0.5 & MinSamples: 75"
   ]
  },
  {
   "cell_type": "code",
   "execution_count": null,
   "metadata": {
    "pycharm": {
     "is_executing": true,
     "name": "#%%\n"
    },
    "scrolled": false
   },
   "outputs": [],
   "source": [
    " ProsesDBSCAN(0.5,75)"
   ]
  },
  {
   "cell_type": "markdown",
   "metadata": {},
   "source": [
    "### Eps: 0.05 & MinSamples: 125"
   ]
  },
  {
   "cell_type": "code",
   "execution_count": null,
   "metadata": {
    "pycharm": {
     "is_executing": true,
     "name": "#%%\n"
    },
    "scrolled": true
   },
   "outputs": [],
   "source": [
    " ProsesDBSCAN(0.05,125)"
   ]
  },
  {
   "cell_type": "markdown",
   "metadata": {},
   "source": [
    "### Eps: 0.1 & MinSamples: 125"
   ]
  },
  {
   "cell_type": "code",
   "execution_count": null,
   "metadata": {
    "pycharm": {
     "is_executing": true,
     "name": "#%%\n"
    },
    "scrolled": true
   },
   "outputs": [],
   "source": [
    " ProsesDBSCAN(0.1,125)"
   ]
  },
  {
   "cell_type": "markdown",
   "metadata": {},
   "source": [
    "### Eps: 0.15 & MinSamples: 125"
   ]
  },
  {
   "cell_type": "code",
   "execution_count": null,
   "metadata": {
    "pycharm": {
     "is_executing": true,
     "name": "#%%\n"
    },
    "scrolled": true
   },
   "outputs": [],
   "source": [
    " ProsesDBSCAN(0.15,125)"
   ]
  },
  {
   "cell_type": "markdown",
   "metadata": {},
   "source": [
    "### Eps: 0.2 & MinSamples: 125"
   ]
  },
  {
   "cell_type": "code",
   "execution_count": null,
   "metadata": {
    "pycharm": {
     "is_executing": true,
     "name": "#%%\n"
    },
    "scrolled": true
   },
   "outputs": [],
   "source": [
    " ProsesDBSCAN(0.2,125)"
   ]
  },
  {
   "cell_type": "markdown",
   "metadata": {},
   "source": [
    "### Eps: 0.25 & MinSamples: 125"
   ]
  },
  {
   "cell_type": "code",
   "execution_count": null,
   "metadata": {
    "pycharm": {
     "is_executing": true,
     "name": "#%%\n"
    },
    "scrolled": true
   },
   "outputs": [],
   "source": [
    " ProsesDBSCAN(0.25,125)"
   ]
  },
  {
   "cell_type": "markdown",
   "metadata": {},
   "source": [
    "### Eps: 0.3 & MinSamples: 125"
   ]
  },
  {
   "cell_type": "code",
   "execution_count": null,
   "metadata": {
    "pycharm": {
     "is_executing": true,
     "name": "#%%\n"
    },
    "scrolled": true
   },
   "outputs": [],
   "source": [
    " ProsesDBSCAN(0.3,125)"
   ]
  },
  {
   "cell_type": "markdown",
   "metadata": {},
   "source": [
    "### Eps: 0.35 & MinSamples: 125"
   ]
  },
  {
   "cell_type": "code",
   "execution_count": null,
   "metadata": {
    "pycharm": {
     "is_executing": true,
     "name": "#%%\n"
    },
    "scrolled": true
   },
   "outputs": [],
   "source": [
    " ProsesDBSCAN(0.35,125)"
   ]
  },
  {
   "cell_type": "markdown",
   "metadata": {},
   "source": [
    "### Eps: 0.4 & MinSamples: 125"
   ]
  },
  {
   "cell_type": "code",
   "execution_count": null,
   "metadata": {
    "pycharm": {
     "is_executing": true,
     "name": "#%%\n"
    },
    "scrolled": true
   },
   "outputs": [],
   "source": [
    " ProsesDBSCAN(0.4,125)"
   ]
  },
  {
   "cell_type": "markdown",
   "metadata": {},
   "source": [
    "### Eps: 0.45 & MinSamples: 125"
   ]
  },
  {
   "cell_type": "code",
   "execution_count": null,
   "metadata": {
    "pycharm": {
     "is_executing": true,
     "name": "#%%\n"
    },
    "scrolled": true
   },
   "outputs": [],
   "source": [
    " ProsesDBSCAN(0.45,125)"
   ]
  },
  {
   "cell_type": "markdown",
   "metadata": {},
   "source": [
    "### Eps: 0.5 & MinSamples: .125"
   ]
  },
  {
   "cell_type": "code",
   "execution_count": null,
   "metadata": {
    "pycharm": {
     "is_executing": true,
     "name": "#%%\n"
    },
    "scrolled": true
   },
   "outputs": [],
   "source": [
    " ProsesDBSCAN(0.5,125)"
   ]
  },
  {
   "cell_type": "code",
   "execution_count": null,
   "metadata": {
    "pycharm": {
     "is_executing": true
    }
   },
   "outputs": [],
   "source": []
  }
 ],
 "metadata": {
  "kernelspec": {
   "display_name": "Python 3",
   "language": "python",
   "name": "python3"
  },
  "language_info": {
   "codemirror_mode": {
    "name": "ipython",
    "version": 3
   },
   "file_extension": ".py",
   "mimetype": "text/x-python",
   "name": "python",
   "nbconvert_exporter": "python",
   "pygments_lexer": "ipython3",
   "version": "3.7.6"
  }
 },
 "nbformat": 4,
 "nbformat_minor": 2
}
